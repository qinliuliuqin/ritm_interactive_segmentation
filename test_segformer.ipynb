{
 "cells": [
  {
   "cell_type": "code",
   "execution_count": 1,
   "source": [
    "import torch\n",
    "from isegm.model.modeling.segformer import MixVisionTransformer, SegformerHead"
   ],
   "outputs": [],
   "metadata": {}
  },
  {
   "cell_type": "code",
   "execution_count": 2,
   "source": [
    "backbone_params=dict(    \n",
    "    in_channels=3,\n",
    "    embed_dims=64,\n",
    "    num_stages=4,\n",
    "    num_layers=[3, 6, 40, 3],\n",
    "    num_heads=[1, 2, 5, 8],\n",
    "    patch_sizes=[7, 3, 3, 3],\n",
    "    sr_ratios=[8, 4, 2, 1],\n",
    "    out_indices=(0, 1, 2, 3),\n",
    "    mlp_ratio=4,\n",
    "    qkv_bias=True,\n",
    "    drop_rate=0.0,\n",
    "    attn_drop_rate=0.0,\n",
    "    drop_path_rate=0.1\n",
    ")"
   ],
   "outputs": [],
   "metadata": {}
  },
  {
   "cell_type": "code",
   "execution_count": 3,
   "source": [
    "backbone = MixVisionTransformer(**backbone_params)"
   ],
   "outputs": [
    {
     "output_type": "stream",
     "name": "stderr",
     "text": [
      "/playpen-raid/qinliu/projects/ritm_interactive_segmentation/isegm/model/modeling/segformer.py:314: UserWarning: DeprecationWarning: pretrained is a deprecated, please use \"init_cfg\" instead\n",
      "  warnings.warn('DeprecationWarning: pretrained is a deprecated, '\n"
     ]
    }
   ],
   "metadata": {}
  },
  {
   "cell_type": "code",
   "execution_count": 6,
   "source": [
    "from isegm.model.modeling.transformer_helper.cross_entropy_loss import CrossEntropyLoss\n",
    "\n",
    "norm_cfg = dict(type='BN', requires_grad=True)\n",
    "decode_head_params=dict(\n",
    "    in_channels=[64, 128, 320, 512],\n",
    "    in_index=[0, 1, 2, 3],\n",
    "    channels=256,\n",
    "    dropout_ratio=0.1,\n",
    "    num_classes=150,\n",
    "    norm_cfg=norm_cfg,\n",
    "    align_corners=False,\n",
    "    loss_decode=CrossEntropyLoss(),\n",
    ")\n",
    "head = SegformerHead(**decode_head_params)"
   ],
   "outputs": [],
   "metadata": {}
  },
  {
   "cell_type": "code",
   "execution_count": 7,
   "source": [
    "in_shape = (1, 3, 128, 128)\n",
    "input_t = torch.randn(in_shape)\n",
    "out_t = head(backbone(input_t))"
   ],
   "outputs": [],
   "metadata": {}
  },
  {
   "cell_type": "code",
   "execution_count": 8,
   "source": [
    "print(out_t.shape)"
   ],
   "outputs": [
    {
     "output_type": "stream",
     "name": "stdout",
     "text": [
      "torch.Size([1, 150, 32, 32])\n"
     ]
    }
   ],
   "metadata": {}
  }
 ],
 "metadata": {
  "orig_nbformat": 4,
  "language_info": {
   "name": "python",
   "version": "3.8.8",
   "mimetype": "text/x-python",
   "codemirror_mode": {
    "name": "ipython",
    "version": 3
   },
   "pygments_lexer": "ipython3",
   "nbconvert_exporter": "python",
   "file_extension": ".py"
  },
  "kernelspec": {
   "name": "python3",
   "display_name": "Python 3.8.8 64-bit ('base': conda)"
  },
  "interpreter": {
   "hash": "d6ef4093ab78b75315b5578de234fc5791126666d11dbc7e5176d4b19b865843"
  }
 },
 "nbformat": 4,
 "nbformat_minor": 2
}